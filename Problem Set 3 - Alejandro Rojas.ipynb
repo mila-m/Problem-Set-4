{
 "cells": [
  {
   "cell_type": "markdown",
   "metadata": {},
   "source": [
    "# Problem Set 3\n",
    "\n",
    "# Student: Alejandro Rojas\n",
    "\n",
    "# Code and Program Set Up"
   ]
  },
  {
   "cell_type": "code",
   "execution_count": 77,
   "metadata": {},
   "outputs": [
    {
     "name": "stdout",
     "output_type": "stream",
     "text": [
      "\u001b[32m\u001b[1mActivated\u001b[0m /home/jupyter/Computational Economics - My codes/Project.toml\u001b[39m\n",
      "\u001b[36m\u001b[1mInfo\u001b[0m Project name is quantecon-notebooks-julia, version is 0.2.0\u001b[39m\n"
     ]
    }
   ],
   "source": [
    "using InstantiateFromURL\n",
    "github_project(\"QuantEcon/quantecon-notebooks-julia\", version = \"0.2.0\")"
   ]
  },
  {
   "cell_type": "code",
   "execution_count": 78,
   "metadata": {},
   "outputs": [
    {
     "ename": "ArgumentError",
     "evalue": "ArgumentError: Package QuantEcon [fcd29c91-0bd7-5a09-975d-7ac3f643a60c] is required but does not seem to be installed:\n - Run `Pkg.instantiate()` to install all recorded dependencies.\n",
     "output_type": "error",
     "traceback": [
      "ArgumentError: Package QuantEcon [fcd29c91-0bd7-5a09-975d-7ac3f643a60c] is required but does not seem to be installed:\n - Run `Pkg.instantiate()` to install all recorded dependencies.\n",
      "",
      "Stacktrace:",
      " [1] _require(::Base.PkgId) at ./loading.jl:982",
      " [2] require(::Base.PkgId) at ./loading.jl:911",
      " [3] require(::Module, ::Symbol) at ./loading.jl:906",
      " [4] top-level scope at In[78]:2"
     ]
    }
   ],
   "source": [
    "using LinearAlgebra, Statistics\n",
    "using QuantEcon, QuadGK, FastGaussQuadrature, Distributions, Expectations\n",
    "using Interpolations, Plots, LaTeXStrings, ProgressMeter"
   ]
  },
  {
   "cell_type": "markdown",
   "metadata": {},
   "source": [
    "# Exercise 4 in Introduction to Types"
   ]
  },
  {
   "cell_type": "markdown",
   "metadata": {},
   "source": [
    "## Problem"
   ]
  },
  {
   "cell_type": "markdown",
   "metadata": {},
   "source": [
    "Use your solution to Exercise 8(a/b) in [Introductory Examples](https://lectures.quantecon.org/julia_by_example.html) to\n",
    "create a specialized version of Newton’s method for `Polynomials` using the `polyder` function\n",
    "\n",
    "The signature of the function should be `newtonsmethod(p::Poly, x_0; tolerance = 1E-7, maxiter = 100)`,\n",
    "where `p::Poly` ensures that this version of the function will be used anytime a polynomial is passed (i.e. dispatch)\n",
    "\n",
    "Compare the results of this function to the built-in `roots(p)` function"
   ]
  },
  {
   "cell_type": "markdown",
   "metadata": {},
   "source": [
    "## Solution"
   ]
  },
  {
   "cell_type": "code",
   "execution_count": 79,
   "metadata": {},
   "outputs": [
    {
     "data": {
      "text/plain": [
       "newtonsmethod (generic function with 1 method)"
      ]
     },
     "execution_count": 79,
     "metadata": {},
     "output_type": "execute_result"
    }
   ],
   "source": [
    "using Polynomials, LinearAlgebra\n",
    "function newtonsmethod(p::Poly, x_0; tolerance = 1E-7, maxiter = 100)\n",
    "    x_old = x_0\n",
    "    normdiff = Inf\n",
    "    iter = 1\n",
    "    p_primes = polyder(p)\n",
    "    while normdiff >  tolerance && iter <= maxiter\n",
    "        x_new = x_old - (p(x_old)/p_primes(x_old))\n",
    "        normdiff = norm(x_new - x_old)\n",
    "        x_old = x_new\n",
    "        iter = iter + 1\n",
    "    end\n",
    "    return (value = x_old, normdiff = normdiff, iter = iter)\n",
    "end"
   ]
  },
  {
   "cell_type": "code",
   "execution_count": 80,
   "metadata": {},
   "outputs": [
    {
     "data": {
      "text/plain": [
       "(value = 2.0, normdiff = 2.76667577736589e-13, iter = 7)"
      ]
     },
     "execution_count": 80,
     "metadata": {},
     "output_type": "execute_result"
    }
   ],
   "source": [
    "using Polynomials\n",
    "p = Poly([2, -5, 2], :x)\n",
    "newtonsmethod(p,3)"
   ]
  },
  {
   "cell_type": "code",
   "execution_count": 81,
   "metadata": {},
   "outputs": [
    {
     "data": {
      "text/plain": [
       "(value = 0.5, normdiff = 3.4924596548080444e-10, iter = 6)"
      ]
     },
     "execution_count": 81,
     "metadata": {},
     "output_type": "execute_result"
    }
   ],
   "source": [
    "using Polynomials\n",
    "p = Poly([2, -5, 2], :x)\n",
    "newtonsmethod(p,0)"
   ]
  },
  {
   "cell_type": "markdown",
   "metadata": {},
   "source": [
    "While `newtonsmethod` is going to give one root, `roots` will give all the roots of the polynomial. In the case of the polynomial $p(x) = 2 -5 x+2x^2$ we see that $x=0$ and $x=2$ are roots, but we only get one of these results with the function `newtonsmethod`, while with `roots` we obtain both. "
   ]
  },
  {
   "cell_type": "markdown",
   "metadata": {},
   "source": [
    "# Exercise 5 in Introduction to Types"
   ]
  },
  {
   "cell_type": "markdown",
   "metadata": {},
   "source": [
    "## Problem"
   ]
  },
  {
   "cell_type": "markdown",
   "metadata": {},
   "source": [
    "The [trapezoidal rule](https://en.wikipedia.org/wiki/Trapezoidal_rule)  approximates an integral with\n",
    "\n",
    "$$\n",
    "\\int_\\underline{x}^\\bar{x} f(x) \\, dx \\approx \\sum_{n=1}^N \\frac{f(x_{n-1}) + f(x_n)}{2} \\Delta x_n\n",
    "$$\n",
    "\n",
    "where $ x_0 = \\underline{x},\\, x_N = \\bar{x} $, and $ \\Delta x_n \\equiv x_{n-1} - x_n $\n",
    "\n",
    "Given an `x` and a function `f`, implement a few variations of the trapezoidal rule using multiple dispatch\n",
    "\n",
    "- `trapezoidal(f, x)` for any `typeof(x) = AbstractArray` and `typeof(f) == AbstractArray` where `length(x) = length(f)`  \n",
    "- `trapezoidal(f, x)` for any `typeof(x) = AbstractRange` and `typeof(f) == AbstractArray` where `length(x) = length(f)`\n",
    "  * Exploit the fact that `AbstractRange` has constant step sizes to specialize the algorithm  \n",
    "- `trapezoidal(f, x̲, x̄, N)` where `typeof(f) = Function`, and the other arguments are `Real`\n",
    "  * For this, build a uniform grid with `N` points on `[x̲, x̄]` – call the `f` function at those grid points and use the existing `trapezoidal(f, x)` from the implementation  \n",
    "\n",
    "\n",
    "With these:\n",
    "1. Test each variation of the function with $ f(x) = x^2 $ with $ \\underline{x}=0,\\, \\bar{x} = 1 $\n",
    "2. From the analytical solution of the function, plot the error of `trapezoidal(f, x̲, x̄, N)` relative to the analytical solution for a grid of different `N` values\n",
    "3. Consider trying different functions for $ f(x) $ and compare the solutions for various `N`\n",
    "\n",
    "When trying different functions, instead of integrating by hand consider using a high-accuracy\n",
    "library for numerical integration such as [QuadGK.jl](https://juliamath.github.io/QuadGK.jl/latest/)"
   ]
  },
  {
   "cell_type": "markdown",
   "metadata": {},
   "source": [
    "## Solution"
   ]
  },
  {
   "cell_type": "markdown",
   "metadata": {},
   "source": [
    "**First case**: `trapezoidal(f, x)` for any `typeof(x) = AbstractArray` and `typeof(f) == AbstractArray` where `length(x) = length(f)` "
   ]
  },
  {
   "cell_type": "code",
   "execution_count": 82,
   "metadata": {},
   "outputs": [
    {
     "data": {
      "text/plain": [
       "trapezoidal1 (generic function with 1 method)"
      ]
     },
     "execution_count": 82,
     "metadata": {},
     "output_type": "execute_result"
    }
   ],
   "source": [
    "function trapezoidal1(f::AbstractArray, x::AbstractArray)\n",
    "    int = 0;\n",
    "    for i ∈ 2:length(x)\n",
    "        int = int + ((f[i,1]+f[i-1,1])/2)*(x[i,1]-x[i-1,1])\n",
    "    end\n",
    "    return int\n",
    "end"
   ]
  },
  {
   "cell_type": "code",
   "execution_count": 83,
   "metadata": {},
   "outputs": [
    {
     "name": "stdout",
     "output_type": "stream",
     "text": [
      "With lower bound 0 and upper bound 1 the trapezoidal integration is 0.33335033840084344.\n"
     ]
    }
   ],
   "source": [
    "f(x) = x.^2;\n",
    "xl = 0;\n",
    "xu = 1;\n",
    "N = 100;\n",
    "gap = norm(xu-xl)/(N-1);\n",
    "\n",
    "x  = collect(xl:gap:xu);\n",
    "r = f(x);\n",
    "sol = trapezoidal1(r,x);\n",
    "\n",
    "println(\"With lower bound $(xl) and upper bound $(xu) the trapezoidal integration is $(sol).\")"
   ]
  },
  {
   "cell_type": "markdown",
   "metadata": {},
   "source": [
    "**Second case**: `trapezoidal(f, x)` for any `typeof(x) = AbstractRange` and `typeof(f) == AbstractArray` where `length(x) = length(f)`"
   ]
  },
  {
   "cell_type": "code",
   "execution_count": 84,
   "metadata": {},
   "outputs": [
    {
     "data": {
      "text/plain": [
       "trapezoidal2 (generic function with 2 methods)"
      ]
     },
     "execution_count": 84,
     "metadata": {},
     "output_type": "execute_result"
    }
   ],
   "source": [
    "function trapezoidal2(f::AbstractArray, y::StepRangeLen{Float64,Base.TwicePrecision{Float64},Base.TwicePrecision{Float64}})\n",
    "    int = 0;\n",
    "    for i ∈ 2:length(x)\n",
    "        int = int + ((f[i,1]+f[i-1,1])/2)*(x[i,1]-x[i-1,1]);\n",
    "    end\n",
    "    return int\n",
    "end"
   ]
  },
  {
   "cell_type": "code",
   "execution_count": 85,
   "metadata": {},
   "outputs": [
    {
     "name": "stdout",
     "output_type": "stream",
     "text": [
      "With lower bound 0 and upper bound 1 the trapezoidal integration is 0.33335033840084344.\n"
     ]
    }
   ],
   "source": [
    "xl = 0;\n",
    "xu = 1;\n",
    "N = 100;\n",
    "gap = norm(xu-xl)/(N-1);\n",
    "\n",
    "x  = xl:gap:xu;\n",
    "r = [s^2 for s ∈ x];\n",
    "sol = trapezoidal2(r, x);\n",
    "println(\"With lower bound $(xl) and upper bound $(xu) the trapezoidal integration is $(sol).\")"
   ]
  },
  {
   "cell_type": "markdown",
   "metadata": {},
   "source": [
    "**Third case**: `trapezoidal(f, x̲, x̄, N)` where `typeof(f) = Function`, and the other arguments are `Real`"
   ]
  },
  {
   "cell_type": "code",
   "execution_count": 86,
   "metadata": {},
   "outputs": [
    {
     "data": {
      "text/plain": [
       "trapezoidal (generic function with 1 method)"
      ]
     },
     "execution_count": 86,
     "metadata": {},
     "output_type": "execute_result"
    }
   ],
   "source": [
    "function trapezoidal(f::Function, xl::Real, xu::Real, N::Real)\n",
    "    gap = norm(xu-xl)/(N-1);\n",
    "    x = collect(xl:gap:xu);\n",
    "    r = f.(x)\n",
    "    int = 0;\n",
    "    for i ∈ 2:length(x)\n",
    "        int += ((r[i,1]+r[i-1,1])/2)*(x[i,1]-x[i-1,1]);\n",
    "    end\n",
    "    return int\n",
    "end"
   ]
  },
  {
   "cell_type": "code",
   "execution_count": 87,
   "metadata": {},
   "outputs": [
    {
     "data": {
      "text/plain": [
       "0.3353909465020576"
      ]
     },
     "execution_count": 87,
     "metadata": {},
     "output_type": "execute_result"
    }
   ],
   "source": [
    "f(x) = x.^2;\n",
    "trapezoidal(f, 0, 1, 10)"
   ]
  },
  {
   "cell_type": "code",
   "execution_count": 88,
   "metadata": {},
   "outputs": [
    {
     "data": {
      "image/png": "[encoded data removed]",
      "image/svg+xml": [
       "<?xml version=\"1.0\" encoding=\"utf-8\"?>\n",
       "<svg xmlns=\"http://www.w3.org/2000/svg\" xmlns:xlink=\"http://www.w3.org/1999/xlink\" width=\"600\" height=\"400\" viewBox=\"0 0 2400 1600\">\n",
       "<defs>\n",
       "  <clipPath id=\"clip9000\">\n",
       "    <rect x=\"0\" y=\"0\" width=\"2400\" height=\"1600\"/>\n",
       "  </clipPath>\n",
       "</defs>\n",
       "<polygon clip-path=\"url(#clip9000)\" points=\"\n",
       "0,1600 2400,1600 2400,0 0,0 \n",
       "  \" fill=\"#ffffff\" fill-rule=\"evenodd\" fill-opacity=\"1\"/>\n",
       "<defs>\n",
       "  <clipPath id=\"clip9001\">\n",
       "    <rect x=\"480\" y=\"0\" width=\"1681\" height=\"1600\"/>\n",
       "  </clipPath>\n",
       "</defs>\n",
       "<polygon clip-path=\"url(#clip9000)\" points=\"\n",
       "234.185,1487.47 2352.76,1487.47 2352.76,47.2441 234.185,47.2441 \n",
       "  \" fill=\"#ffffff\" fill-rule=\"evenodd\" fill-opacity=\"1\"/>\n",
       "<defs>\n",
       "  <clipPath id=\"clip9002\">\n",
       "    <rect x=\"234\" y=\"47\" width=\"2120\" height=\"1441\"/>\n",
       "  </clipPath>\n",
       "</defs>\n",
       "<polyline clip-path=\"url(#clip9002)\" style=\"stroke:#000000; stroke-width:2; stroke-opacity:0.1; fill:none\" points=\"\n",
       "  516.217,1487.47 516.217,47.2441 \n",
       "  \"/>\n",
       "<polyline clip-path=\"url(#clip9002)\" style=\"stroke:#000000; stroke-width:2; stroke-opacity:0.1; fill:none\" points=\"\n",
       "  960.362,1487.47 960.362,47.2441 \n",
       "  \"/>\n",
       "<polyline clip-path=\"url(#clip9002)\" style=\"stroke:#000000; stroke-width:2; stroke-opacity:0.1; fill:none\" points=\"\n",
       "  1404.51,1487.47 1404.51,47.2441 \n",
       "  \"/>\n",
       "<polyline clip-path=\"url(#clip9002)\" style=\"stroke:#000000; stroke-width:2; stroke-opacity:0.1; fill:none\" points=\"\n",
       "  1848.65,1487.47 1848.65,47.2441 \n",
       "  \"/>\n",
       "<polyline clip-path=\"url(#clip9002)\" style=\"stroke:#000000; stroke-width:2; stroke-opacity:0.1; fill:none\" points=\"\n",
       "  2292.8,1487.47 2292.8,47.2441 \n",
       "  \"/>\n",
       "<polyline clip-path=\"url(#clip9002)\" style=\"stroke:#000000; stroke-width:2; stroke-opacity:0.1; fill:none\" points=\"\n",
       "  234.185,1458.04 2352.76,1458.04 \n",
       "  \"/>\n",
       "<polyline clip-path=\"url(#clip9002)\" style=\"stroke:#000000; stroke-width:2; stroke-opacity:0.1; fill:none\" points=\"\n",
       "  234.185,1125.12 2352.76,1125.12 \n",
       "  \"/>\n",
       "<polyline clip-path=\"url(#clip9002)\" style=\"stroke:#000000; stroke-width:2; stroke-opacity:0.1; fill:none\" points=\"\n",
       "  234.185,792.201 2352.76,792.201 \n",
       "  \"/>\n",
       "<polyline clip-path=\"url(#clip9002)\" style=\"stroke:#000000; stroke-width:2; stroke-opacity:0.1; fill:none\" points=\"\n",
       "  234.185,459.284 2352.76,459.284 \n",
       "  \"/>\n",
       "<polyline clip-path=\"url(#clip9002)\" style=\"stroke:#000000; stroke-width:2; stroke-opacity:0.1; fill:none\" points=\"\n",
       "  234.185,126.366 2352.76,126.366 \n",
       "  \"/>\n",
       "<polyline clip-path=\"url(#clip9000)\" style=\"stroke:#000000; stroke-width:4; stroke-opacity:1; fill:none\" points=\"\n",
       "  234.185,1487.47 2352.76,1487.47 \n",
       "  \"/>\n",
       "<polyline clip-path=\"url(#clip9000)\" style=\"stroke:#000000; stroke-width:4; stroke-opacity:1; fill:none\" points=\"\n",
       "  234.185,1487.47 234.185,47.2441 \n",
       "  \"/>\n",
       "<polyline clip-path=\"url(#clip9000)\" style=\"stroke:#000000; stroke-width:4; stroke-opacity:1; fill:none\" points=\"\n",
       "  516.217,1487.47 516.217,1465.87 \n",
       "  \"/>\n",
       "<polyline clip-path=\"url(#clip9000)\" style=\"stroke:#000000; stroke-width:4; stroke-opacity:1; fill:none\" points=\"\n",
       "  960.362,1487.47 960.362,1465.87 \n",
       "  \"/>\n",
       "<polyline clip-path=\"url(#clip9000)\" style=\"stroke:#000000; stroke-width:4; stroke-opacity:1; fill:none\" points=\"\n",
       "  1404.51,1487.47 1404.51,1465.87 \n",
       "  \"/>\n",
       "<polyline clip-path=\"url(#clip9000)\" style=\"stroke:#000000; stroke-width:4; stroke-opacity:1; fill:none\" points=\"\n",
       "  1848.65,1487.47 1848.65,1465.87 \n",
       "  \"/>\n",
       "<polyline clip-path=\"url(#clip9000)\" style=\"stroke:#000000; stroke-width:4; stroke-opacity:1; fill:none\" points=\"\n",
       "  2292.8,1487.47 2292.8,1465.87 \n",
       "  \"/>\n",
       "<polyline clip-path=\"url(#clip9000)\" style=\"stroke:#000000; stroke-width:4; stroke-opacity:1; fill:none\" points=\"\n",
       "  234.185,1458.04 265.964,1458.04 \n",
       "  \"/>\n",
       "<polyline clip-path=\"url(#clip9000)\" style=\"stroke:#000000; stroke-width:4; stroke-opacity:1; fill:none\" points=\"\n",
       "  234.185,1125.12 265.964,1125.12 \n",
       "  \"/>\n",
       "<polyline clip-path=\"url(#clip9000)\" style=\"stroke:#000000; stroke-width:4; stroke-opacity:1; fill:none\" points=\"\n",
       "  234.185,792.201 265.964,792.201 \n",
       "  \"/>\n",
       "<polyline clip-path=\"url(#clip9000)\" style=\"stroke:#000000; stroke-width:4; stroke-opacity:1; fill:none\" points=\"\n",
       "  234.185,459.284 265.964,459.284 \n",
       "  \"/>\n",
       "<polyline clip-path=\"url(#clip9000)\" style=\"stroke:#000000; stroke-width:4; stroke-opacity:1; fill:none\" points=\"\n",
       "  234.185,126.366 265.964,126.366 \n",
       "  \"/>\n",
       "<g clip-path=\"url(#clip9000)\">\n",
       "<text style=\"fill:#000000; fill-opacity:1; font-family:Arial,Helvetica Neue,Helvetica,sans-serif; font-size:48px; text-anchor:middle;\" transform=\"rotate(0, 516.217, 1541.47)\" x=\"516.217\" y=\"1541.47\">20</text>\n",
       "</g>\n",
       "<g clip-path=\"url(#clip9000)\">\n",
       "<text style=\"fill:#000000; fill-opacity:1; font-family:Arial,Helvetica Neue,Helvetica,sans-serif; font-size:48px; text-anchor:middle;\" transform=\"rotate(0, 960.362, 1541.47)\" x=\"960.362\" y=\"1541.47\">40</text>\n",
       "</g>\n",
       "<g clip-path=\"url(#clip9000)\">\n",
       "<text style=\"fill:#000000; fill-opacity:1; font-family:Arial,Helvetica Neue,Helvetica,sans-serif; font-size:48px; text-anchor:middle;\" transform=\"rotate(0, 1404.51, 1541.47)\" x=\"1404.51\" y=\"1541.47\">60</text>\n",
       "</g>\n",
       "<g clip-path=\"url(#clip9000)\">\n",
       "<text style=\"fill:#000000; fill-opacity:1; font-family:Arial,Helvetica Neue,Helvetica,sans-serif; font-size:48px; text-anchor:middle;\" transform=\"rotate(0, 1848.65, 1541.47)\" x=\"1848.65\" y=\"1541.47\">80</text>\n",
       "</g>\n",
       "<g clip-path=\"url(#clip9000)\">\n",
       "<text style=\"fill:#000000; fill-opacity:1; font-family:Arial,Helvetica Neue,Helvetica,sans-serif; font-size:48px; text-anchor:middle;\" transform=\"rotate(0, 2292.8, 1541.47)\" x=\"2292.8\" y=\"1541.47\">100</text>\n",
       "</g>\n",
       "<g clip-path=\"url(#clip9000)\">\n",
       "<text style=\"fill:#000000; fill-opacity:1; font-family:Arial,Helvetica Neue,Helvetica,sans-serif; font-size:48px; text-anchor:end;\" transform=\"rotate(0, 210.185, 1475.54)\" x=\"210.185\" y=\"1475.54\">0.0000</text>\n",
       "</g>\n",
       "<g clip-path=\"url(#clip9000)\">\n",
       "<text style=\"fill:#000000; fill-opacity:1; font-family:Arial,Helvetica Neue,Helvetica,sans-serif; font-size:48px; text-anchor:end;\" transform=\"rotate(0, 210.185, 1142.62)\" x=\"210.185\" y=\"1142.62\">0.0005</text>\n",
       "</g>\n",
       "<g clip-path=\"url(#clip9000)\">\n",
       "<text style=\"fill:#000000; fill-opacity:1; font-family:Arial,Helvetica Neue,Helvetica,sans-serif; font-size:48px; text-anchor:end;\" transform=\"rotate(0, 210.185, 809.701)\" x=\"210.185\" y=\"809.701\">0.0010</text>\n",
       "</g>\n",
       "<g clip-path=\"url(#clip9000)\">\n",
       "<text style=\"fill:#000000; fill-opacity:1; font-family:Arial,Helvetica Neue,Helvetica,sans-serif; font-size:48px; text-anchor:end;\" transform=\"rotate(0, 210.185, 476.784)\" x=\"210.185\" y=\"476.784\">0.0015</text>\n",
       "</g>\n",
       "<g clip-path=\"url(#clip9000)\">\n",
       "<text style=\"fill:#000000; fill-opacity:1; font-family:Arial,Helvetica Neue,Helvetica,sans-serif; font-size:48px; text-anchor:end;\" transform=\"rotate(0, 210.185, 143.866)\" x=\"210.185\" y=\"143.866\">0.0020</text>\n",
       "</g>\n",
       "<polyline clip-path=\"url(#clip9002)\" style=\"stroke:#009af9; stroke-width:4; stroke-opacity:1; fill:none\" points=\"\n",
       "  294.145,88.0053 316.352,348.311 338.559,540.908 360.766,687.394 382.974,801.394 405.181,891.85 427.388,964.825 449.595,1024.55 471.802,1074.05 494.01,1115.53 \n",
       "  516.217,1150.63 538.424,1180.6 560.631,1206.4 582.839,1228.75 605.046,1248.26 627.253,1265.38 649.46,1280.48 671.668,1293.88 693.875,1305.81 716.082,1316.49 \n",
       "  738.289,1326.08 760.497,1334.73 782.704,1342.56 804.911,1349.66 827.118,1356.13 849.326,1362.04 871.533,1367.45 893.74,1372.41 915.947,1376.98 938.155,1381.19 \n",
       "  960.362,1385.08 982.569,1388.68 1004.78,1392.02 1026.98,1395.13 1049.19,1398.02 1071.4,1400.72 1093.61,1403.23 1115.81,1405.59 1138.02,1407.8 1160.23,1409.87 \n",
       "  1182.43,1411.82 1204.64,1413.65 1226.85,1415.37 1249.06,1417 1271.26,1418.53 1293.47,1419.98 1315.68,1421.35 1337.88,1422.65 1360.09,1423.88 1382.3,1425.05 \n",
       "  1404.51,1426.16 1426.71,1427.21 1448.92,1428.21 1471.13,1429.17 1493.34,1430.08 1515.54,1430.94 1537.75,1431.77 1559.96,1432.56 1582.16,1433.32 1604.37,1434.04 \n",
       "  1626.58,1434.73 1648.79,1435.39 1670.99,1436.02 1693.2,1436.63 1715.41,1437.21 1737.62,1437.77 1759.82,1438.31 1782.03,1438.82 1804.24,1439.32 1826.44,1439.8 \n",
       "  1848.65,1440.25 1870.86,1440.7 1893.07,1441.12 1915.27,1441.53 1937.48,1441.93 1959.69,1442.31 1981.89,1442.68 2004.1,1443.03 2026.31,1443.37 2048.52,1443.71 \n",
       "  2070.72,1444.03 2092.93,1444.34 2115.14,1444.64 2137.35,1444.92 2159.55,1445.21 2181.76,1445.48 2203.97,1445.74 2226.17,1445.99 2248.38,1446.24 2270.59,1446.48 \n",
       "  2292.8,1446.71 \n",
       "  \"/>\n",
       "<polygon clip-path=\"url(#clip9000)\" points=\"\n",
       "1989.93,251.724 2280.76,251.724 2280.76,130.764 1989.93,130.764 \n",
       "  \" fill=\"#ffffff\" fill-rule=\"evenodd\" fill-opacity=\"1\"/>\n",
       "<polyline clip-path=\"url(#clip9000)\" style=\"stroke:#000000; stroke-width:4; stroke-opacity:1; fill:none\" points=\"\n",
       "  1989.93,251.724 2280.76,251.724 2280.76,130.764 1989.93,130.764 1989.93,251.724 \n",
       "  \"/>\n",
       "<polyline clip-path=\"url(#clip9000)\" style=\"stroke:#009af9; stroke-width:4; stroke-opacity:1; fill:none\" points=\"\n",
       "  2013.93,191.244 2157.93,191.244 \n",
       "  \"/>\n",
       "<g clip-path=\"url(#clip9000)\">\n",
       "<text style=\"fill:#000000; fill-opacity:1; font-family:Arial,Helvetica Neue,Helvetica,sans-serif; font-size:48px; text-anchor:start;\" transform=\"rotate(0, 2181.93, 208.744)\" x=\"2181.93\" y=\"208.744\">y1</text>\n",
       "</g>\n",
       "</svg>\n"
      ],
      "text/html": [
       "<?xml version=\"1.0\" encoding=\"utf-8\"?>\n",
       "<svg xmlns=\"http://www.w3.org/2000/svg\" xmlns:xlink=\"http://www.w3.org/1999/xlink\" width=\"600\" height=\"400\" viewBox=\"0 0 2400 1600\">\n",
       "<defs>\n",
       "  <clipPath id=\"clip9500\">\n",
       "    <rect x=\"0\" y=\"0\" width=\"2400\" height=\"1600\"/>\n",
       "  </clipPath>\n",
       "</defs>\n",
       "<polygon clip-path=\"url(#clip9500)\" points=\"\n",
       "0,1600 2400,1600 2400,0 0,0 \n",
       "  \" fill=\"#ffffff\" fill-rule=\"evenodd\" fill-opacity=\"1\"/>\n",
       "<defs>\n",
       "  <clipPath id=\"clip9501\">\n",
       "    <rect x=\"480\" y=\"0\" width=\"1681\" height=\"1600\"/>\n",
       "  </clipPath>\n",
       "</defs>\n",
       "<polygon clip-path=\"url(#clip9500)\" points=\"\n",
       "234.185,1487.47 2352.76,1487.47 2352.76,47.2441 234.185,47.2441 \n",
       "  \" fill=\"#ffffff\" fill-rule=\"evenodd\" fill-opacity=\"1\"/>\n",
       "<defs>\n",
       "  <clipPath id=\"clip9502\">\n",
       "    <rect x=\"234\" y=\"47\" width=\"2120\" height=\"1441\"/>\n",
       "  </clipPath>\n",
       "</defs>\n",
       "<polyline clip-path=\"url(#clip9502)\" style=\"stroke:#000000; stroke-width:2; stroke-opacity:0.1; fill:none\" points=\"\n",
       "  516.217,1487.47 516.217,47.2441 \n",
       "  \"/>\n",
       "<polyline clip-path=\"url(#clip9502)\" style=\"stroke:#000000; stroke-width:2; stroke-opacity:0.1; fill:none\" points=\"\n",
       "  960.362,1487.47 960.362,47.2441 \n",
       "  \"/>\n",
       "<polyline clip-path=\"url(#clip9502)\" style=\"stroke:#000000; stroke-width:2; stroke-opacity:0.1; fill:none\" points=\"\n",
       "  1404.51,1487.47 1404.51,47.2441 \n",
       "  \"/>\n",
       "<polyline clip-path=\"url(#clip9502)\" style=\"stroke:#000000; stroke-width:2; stroke-opacity:0.1; fill:none\" points=\"\n",
       "  1848.65,1487.47 1848.65,47.2441 \n",
       "  \"/>\n",
       "<polyline clip-path=\"url(#clip9502)\" style=\"stroke:#000000; stroke-width:2; stroke-opacity:0.1; fill:none\" points=\"\n",
       "  2292.8,1487.47 2292.8,47.2441 \n",
       "  \"/>\n",
       "<polyline clip-path=\"url(#clip9502)\" style=\"stroke:#000000; stroke-width:2; stroke-opacity:0.1; fill:none\" points=\"\n",
       "  234.185,1458.04 2352.76,1458.04 \n",
       "  \"/>\n",
       "<polyline clip-path=\"url(#clip9502)\" style=\"stroke:#000000; stroke-width:2; stroke-opacity:0.1; fill:none\" points=\"\n",
       "  234.185,1125.12 2352.76,1125.12 \n",
       "  \"/>\n",
       "<polyline clip-path=\"url(#clip9502)\" style=\"stroke:#000000; stroke-width:2; stroke-opacity:0.1; fill:none\" points=\"\n",
       "  234.185,792.201 2352.76,792.201 \n",
       "  \"/>\n",
       "<polyline clip-path=\"url(#clip9502)\" style=\"stroke:#000000; stroke-width:2; stroke-opacity:0.1; fill:none\" points=\"\n",
       "  234.185,459.284 2352.76,459.284 \n",
       "  \"/>\n",
       "<polyline clip-path=\"url(#clip9502)\" style=\"stroke:#000000; stroke-width:2; stroke-opacity:0.1; fill:none\" points=\"\n",
       "  234.185,126.366 2352.76,126.366 \n",
       "  \"/>\n",
       "<polyline clip-path=\"url(#clip9500)\" style=\"stroke:#000000; stroke-width:4; stroke-opacity:1; fill:none\" points=\"\n",
       "  234.185,1487.47 2352.76,1487.47 \n",
       "  \"/>\n",
       "<polyline clip-path=\"url(#clip9500)\" style=\"stroke:#000000; stroke-width:4; stroke-opacity:1; fill:none\" points=\"\n",
       "  234.185,1487.47 234.185,47.2441 \n",
       "  \"/>\n",
       "<polyline clip-path=\"url(#clip9500)\" style=\"stroke:#000000; stroke-width:4; stroke-opacity:1; fill:none\" points=\"\n",
       "  516.217,1487.47 516.217,1465.87 \n",
       "  \"/>\n",
       "<polyline clip-path=\"url(#clip9500)\" style=\"stroke:#000000; stroke-width:4; stroke-opacity:1; fill:none\" points=\"\n",
       "  960.362,1487.47 960.362,1465.87 \n",
       "  \"/>\n",
       "<polyline clip-path=\"url(#clip9500)\" style=\"stroke:#000000; stroke-width:4; stroke-opacity:1; fill:none\" points=\"\n",
       "  1404.51,1487.47 1404.51,1465.87 \n",
       "  \"/>\n",
       "<polyline clip-path=\"url(#clip9500)\" style=\"stroke:#000000; stroke-width:4; stroke-opacity:1; fill:none\" points=\"\n",
       "  1848.65,1487.47 1848.65,1465.87 \n",
       "  \"/>\n",
       "<polyline clip-path=\"url(#clip9500)\" style=\"stroke:#000000; stroke-width:4; stroke-opacity:1; fill:none\" points=\"\n",
       "  2292.8,1487.47 2292.8,1465.87 \n",
       "  \"/>\n",
       "<polyline clip-path=\"url(#clip9500)\" style=\"stroke:#000000; stroke-width:4; stroke-opacity:1; fill:none\" points=\"\n",
       "  234.185,1458.04 265.964,1458.04 \n",
       "  \"/>\n",
       "<polyline clip-path=\"url(#clip9500)\" style=\"stroke:#000000; stroke-width:4; stroke-opacity:1; fill:none\" points=\"\n",
       "  234.185,1125.12 265.964,1125.12 \n",
       "  \"/>\n",
       "<polyline clip-path=\"url(#clip9500)\" style=\"stroke:#000000; stroke-width:4; stroke-opacity:1; fill:none\" points=\"\n",
       "  234.185,792.201 265.964,792.201 \n",
       "  \"/>\n",
       "<polyline clip-path=\"url(#clip9500)\" style=\"stroke:#000000; stroke-width:4; stroke-opacity:1; fill:none\" points=\"\n",
       "  234.185,459.284 265.964,459.284 \n",
       "  \"/>\n",
       "<polyline clip-path=\"url(#clip9500)\" style=\"stroke:#000000; stroke-width:4; stroke-opacity:1; fill:none\" points=\"\n",
       "  234.185,126.366 265.964,126.366 \n",
       "  \"/>\n",
       "<g clip-path=\"url(#clip9500)\">\n",
       "<text style=\"fill:#000000; fill-opacity:1; font-family:Arial,Helvetica Neue,Helvetica,sans-serif; font-size:48px; text-anchor:middle;\" transform=\"rotate(0, 516.217, 1541.47)\" x=\"516.217\" y=\"1541.47\">20</text>\n",
       "</g>\n",
       "<g clip-path=\"url(#clip9500)\">\n",
       "<text style=\"fill:#000000; fill-opacity:1; font-family:Arial,Helvetica Neue,Helvetica,sans-serif; font-size:48px; text-anchor:middle;\" transform=\"rotate(0, 960.362, 1541.47)\" x=\"960.362\" y=\"1541.47\">40</text>\n",
       "</g>\n",
       "<g clip-path=\"url(#clip9500)\">\n",
       "<text style=\"fill:#000000; fill-opacity:1; font-family:Arial,Helvetica Neue,Helvetica,sans-serif; font-size:48px; text-anchor:middle;\" transform=\"rotate(0, 1404.51, 1541.47)\" x=\"1404.51\" y=\"1541.47\">60</text>\n",
       "</g>\n",
       "<g clip-path=\"url(#clip9500)\">\n",
       "<text style=\"fill:#000000; fill-opacity:1; font-family:Arial,Helvetica Neue,Helvetica,sans-serif; font-size:48px; text-anchor:middle;\" transform=\"rotate(0, 1848.65, 1541.47)\" x=\"1848.65\" y=\"1541.47\">80</text>\n",
       "</g>\n",
       "<g clip-path=\"url(#clip9500)\">\n",
       "<text style=\"fill:#000000; fill-opacity:1; font-family:Arial,Helvetica Neue,Helvetica,sans-serif; font-size:48px; text-anchor:middle;\" transform=\"rotate(0, 2292.8, 1541.47)\" x=\"2292.8\" y=\"1541.47\">100</text>\n",
       "</g>\n",
       "<g clip-path=\"url(#clip9500)\">\n",
       "<text style=\"fill:#000000; fill-opacity:1; font-family:Arial,Helvetica Neue,Helvetica,sans-serif; font-size:48px; text-anchor:end;\" transform=\"rotate(0, 210.185, 1475.54)\" x=\"210.185\" y=\"1475.54\">0.0000</text>\n",
       "</g>\n",
       "<g clip-path=\"url(#clip9500)\">\n",
       "<text style=\"fill:#000000; fill-opacity:1; font-family:Arial,Helvetica Neue,Helvetica,sans-serif; font-size:48px; text-anchor:end;\" transform=\"rotate(0, 210.185, 1142.62)\" x=\"210.185\" y=\"1142.62\">0.0005</text>\n",
       "</g>\n",
       "<g clip-path=\"url(#clip9500)\">\n",
       "<text style=\"fill:#000000; fill-opacity:1; font-family:Arial,Helvetica Neue,Helvetica,sans-serif; font-size:48px; text-anchor:end;\" transform=\"rotate(0, 210.185, 809.701)\" x=\"210.185\" y=\"809.701\">0.0010</text>\n",
       "</g>\n",
       "<g clip-path=\"url(#clip9500)\">\n",
       "<text style=\"fill:#000000; fill-opacity:1; font-family:Arial,Helvetica Neue,Helvetica,sans-serif; font-size:48px; text-anchor:end;\" transform=\"rotate(0, 210.185, 476.784)\" x=\"210.185\" y=\"476.784\">0.0015</text>\n",
       "</g>\n",
       "<g clip-path=\"url(#clip9500)\">\n",
       "<text style=\"fill:#000000; fill-opacity:1; font-family:Arial,Helvetica Neue,Helvetica,sans-serif; font-size:48px; text-anchor:end;\" transform=\"rotate(0, 210.185, 143.866)\" x=\"210.185\" y=\"143.866\">0.0020</text>\n",
       "</g>\n",
       "<polyline clip-path=\"url(#clip9502)\" style=\"stroke:#009af9; stroke-width:4; stroke-opacity:1; fill:none\" points=\"\n",
       "  294.145,88.0053 316.352,348.311 338.559,540.908 360.766,687.394 382.974,801.394 405.181,891.85 427.388,964.825 449.595,1024.55 471.802,1074.05 494.01,1115.53 \n",
       "  516.217,1150.63 538.424,1180.6 560.631,1206.4 582.839,1228.75 605.046,1248.26 627.253,1265.38 649.46,1280.48 671.668,1293.88 693.875,1305.81 716.082,1316.49 \n",
       "  738.289,1326.08 760.497,1334.73 782.704,1342.56 804.911,1349.66 827.118,1356.13 849.326,1362.04 871.533,1367.45 893.74,1372.41 915.947,1376.98 938.155,1381.19 \n",
       "  960.362,1385.08 982.569,1388.68 1004.78,1392.02 1026.98,1395.13 1049.19,1398.02 1071.4,1400.72 1093.61,1403.23 1115.81,1405.59 1138.02,1407.8 1160.23,1409.87 \n",
       "  1182.43,1411.82 1204.64,1413.65 1226.85,1415.37 1249.06,1417 1271.26,1418.53 1293.47,1419.98 1315.68,1421.35 1337.88,1422.65 1360.09,1423.88 1382.3,1425.05 \n",
       "  1404.51,1426.16 1426.71,1427.21 1448.92,1428.21 1471.13,1429.17 1493.34,1430.08 1515.54,1430.94 1537.75,1431.77 1559.96,1432.56 1582.16,1433.32 1604.37,1434.04 \n",
       "  1626.58,1434.73 1648.79,1435.39 1670.99,1436.02 1693.2,1436.63 1715.41,1437.21 1737.62,1437.77 1759.82,1438.31 1782.03,1438.82 1804.24,1439.32 1826.44,1439.8 \n",
       "  1848.65,1440.25 1870.86,1440.7 1893.07,1441.12 1915.27,1441.53 1937.48,1441.93 1959.69,1442.31 1981.89,1442.68 2004.1,1443.03 2026.31,1443.37 2048.52,1443.71 \n",
       "  2070.72,1444.03 2092.93,1444.34 2115.14,1444.64 2137.35,1444.92 2159.55,1445.21 2181.76,1445.48 2203.97,1445.74 2226.17,1445.99 2248.38,1446.24 2270.59,1446.48 \n",
       "  2292.8,1446.71 \n",
       "  \"/>\n",
       "<polygon clip-path=\"url(#clip9500)\" points=\"\n",
       "1989.93,251.724 2280.76,251.724 2280.76,130.764 1989.93,130.764 \n",
       "  \" fill=\"#ffffff\" fill-rule=\"evenodd\" fill-opacity=\"1\"/>\n",
       "<polyline clip-path=\"url(#clip9500)\" style=\"stroke:#000000; stroke-width:4; stroke-opacity:1; fill:none\" points=\"\n",
       "  1989.93,251.724 2280.76,251.724 2280.76,130.764 1989.93,130.764 1989.93,251.724 \n",
       "  \"/>\n",
       "<polyline clip-path=\"url(#clip9500)\" style=\"stroke:#009af9; stroke-width:4; stroke-opacity:1; fill:none\" points=\"\n",
       "  2013.93,191.244 2157.93,191.244 \n",
       "  \"/>\n",
       "<g clip-path=\"url(#clip9500)\">\n",
       "<text style=\"fill:#000000; fill-opacity:1; font-family:Arial,Helvetica Neue,Helvetica,sans-serif; font-size:48px; text-anchor:start;\" transform=\"rotate(0, 2181.93, 208.744)\" x=\"2181.93\" y=\"208.744\">y1</text>\n",
       "</g>\n",
       "</svg>\n"
      ],
      "text/plain": [
       "Plot{Plots.GRBackend() n=1}"
      ]
     },
     "execution_count": 88,
     "metadata": {},
     "output_type": "execute_result"
    }
   ],
   "source": [
    "using QuadGK\n",
    "f(x) = x.^2;\n",
    "int = quadgk(f, 0, 1, rtol=1e-10);\n",
    "N = collect(10:100);\n",
    "Y = zeros(size(N)[1],1);\n",
    "count = 1;\n",
    "for n ∈ N\n",
    "    Y[count,1] = trapezoidal(f, 0, 1, n) - int[1];\n",
    "    count = count + 1;\n",
    "end\n",
    "\n",
    "using Plots\n",
    "plot(N, Y)"
   ]
  },
  {
   "cell_type": "code",
   "execution_count": 89,
   "metadata": {},
   "outputs": [
    {
     "data": {
      "image/png": "[encoded data removed]",
      "image/svg+xml": [
       "<?xml version=\"1.0\" encoding=\"utf-8\"?>\n",
       "<svg xmlns=\"http://www.w3.org/2000/svg\" xmlns:xlink=\"http://www.w3.org/1999/xlink\" width=\"600\" height=\"400\" viewBox=\"0 0 2400 1600\">\n",
       "<defs>\n",
       "  <clipPath id=\"clip9900\">\n",
       "    <rect x=\"0\" y=\"0\" width=\"2400\" height=\"1600\"/>\n",
       "  </clipPath>\n",
       "</defs>\n",
       "<polygon clip-path=\"url(#clip9900)\" points=\"\n",
       "0,1600 2400,1600 2400,0 0,0 \n",
       "  \" fill=\"#ffffff\" fill-rule=\"evenodd\" fill-opacity=\"1\"/>\n",
       "<defs>\n",
       "  <clipPath id=\"clip9901\">\n",
       "    <rect x=\"480\" y=\"0\" width=\"1681\" height=\"1600\"/>\n",
       "  </clipPath>\n",
       "</defs>\n",
       "<polygon clip-path=\"url(#clip9900)\" points=\"\n",
       "289.057,1487.47 2352.76,1487.47 2352.76,47.2441 289.057,47.2441 \n",
       "  \" fill=\"#ffffff\" fill-rule=\"evenodd\" fill-opacity=\"1\"/>\n",
       "<defs>\n",
       "  <clipPath id=\"clip9902\">\n",
       "    <rect x=\"289\" y=\"47\" width=\"2065\" height=\"1441\"/>\n",
       "  </clipPath>\n",
       "</defs>\n",
       "<polyline clip-path=\"url(#clip9902)\" style=\"stroke:#000000; stroke-width:2; stroke-opacity:0.1; fill:none\" points=\"\n",
       "  563.785,1487.47 563.785,47.2441 \n",
       "  \"/>\n",
       "<polyline clip-path=\"url(#clip9902)\" style=\"stroke:#000000; stroke-width:2; stroke-opacity:0.1; fill:none\" points=\"\n",
       "  996.426,1487.47 996.426,47.2441 \n",
       "  \"/>\n",
       "<polyline clip-path=\"url(#clip9902)\" style=\"stroke:#000000; stroke-width:2; stroke-opacity:0.1; fill:none\" points=\"\n",
       "  1429.07,1487.47 1429.07,47.2441 \n",
       "  \"/>\n",
       "<polyline clip-path=\"url(#clip9902)\" style=\"stroke:#000000; stroke-width:2; stroke-opacity:0.1; fill:none\" points=\"\n",
       "  1861.71,1487.47 1861.71,47.2441 \n",
       "  \"/>\n",
       "<polyline clip-path=\"url(#clip9902)\" style=\"stroke:#000000; stroke-width:2; stroke-opacity:0.1; fill:none\" points=\"\n",
       "  2294.35,1487.47 2294.35,47.2441 \n",
       "  \"/>\n",
       "<polyline clip-path=\"url(#clip9902)\" style=\"stroke:#000000; stroke-width:2; stroke-opacity:0.1; fill:none\" points=\"\n",
       "  289.057,1408.35 2352.76,1408.35 \n",
       "  \"/>\n",
       "<polyline clip-path=\"url(#clip9902)\" style=\"stroke:#000000; stroke-width:2; stroke-opacity:0.1; fill:none\" points=\"\n",
       "  289.057,1075.44 2352.76,1075.44 \n",
       "  \"/>\n",
       "<polyline clip-path=\"url(#clip9902)\" style=\"stroke:#000000; stroke-width:2; stroke-opacity:0.1; fill:none\" points=\"\n",
       "  289.057,742.518 2352.76,742.518 \n",
       "  \"/>\n",
       "<polyline clip-path=\"url(#clip9902)\" style=\"stroke:#000000; stroke-width:2; stroke-opacity:0.1; fill:none\" points=\"\n",
       "  289.057,409.6 2352.76,409.6 \n",
       "  \"/>\n",
       "<polyline clip-path=\"url(#clip9902)\" style=\"stroke:#000000; stroke-width:2; stroke-opacity:0.1; fill:none\" points=\"\n",
       "  289.057,76.6828 2352.76,76.6828 \n",
       "  \"/>\n",
       "<polyline clip-path=\"url(#clip9900)\" style=\"stroke:#000000; stroke-width:4; stroke-opacity:1; fill:none\" points=\"\n",
       "  289.057,1487.47 2352.76,1487.47 \n",
       "  \"/>\n",
       "<polyline clip-path=\"url(#clip9900)\" style=\"stroke:#000000; stroke-width:4; stroke-opacity:1; fill:none\" points=\"\n",
       "  289.057,1487.47 289.057,47.2441 \n",
       "  \"/>\n",
       "<polyline clip-path=\"url(#clip9900)\" style=\"stroke:#000000; stroke-width:4; stroke-opacity:1; fill:none\" points=\"\n",
       "  563.785,1487.47 563.785,1465.87 \n",
       "  \"/>\n",
       "<polyline clip-path=\"url(#clip9900)\" style=\"stroke:#000000; stroke-width:4; stroke-opacity:1; fill:none\" points=\"\n",
       "  996.426,1487.47 996.426,1465.87 \n",
       "  \"/>\n",
       "<polyline clip-path=\"url(#clip9900)\" style=\"stroke:#000000; stroke-width:4; stroke-opacity:1; fill:none\" points=\"\n",
       "  1429.07,1487.47 1429.07,1465.87 \n",
       "  \"/>\n",
       "<polyline clip-path=\"url(#clip9900)\" style=\"stroke:#000000; stroke-width:4; stroke-opacity:1; fill:none\" points=\"\n",
       "  1861.71,1487.47 1861.71,1465.87 \n",
       "  \"/>\n",
       "<polyline clip-path=\"url(#clip9900)\" style=\"stroke:#000000; stroke-width:4; stroke-opacity:1; fill:none\" points=\"\n",
       "  2294.35,1487.47 2294.35,1465.87 \n",
       "  \"/>\n",
       "<polyline clip-path=\"url(#clip9900)\" style=\"stroke:#000000; stroke-width:4; stroke-opacity:1; fill:none\" points=\"\n",
       "  289.057,1408.35 320.013,1408.35 \n",
       "  \"/>\n",
       "<polyline clip-path=\"url(#clip9900)\" style=\"stroke:#000000; stroke-width:4; stroke-opacity:1; fill:none\" points=\"\n",
       "  289.057,1075.44 320.013,1075.44 \n",
       "  \"/>\n",
       "<polyline clip-path=\"url(#clip9900)\" style=\"stroke:#000000; stroke-width:4; stroke-opacity:1; fill:none\" points=\"\n",
       "  289.057,742.518 320.013,742.518 \n",
       "  \"/>\n",
       "<polyline clip-path=\"url(#clip9900)\" style=\"stroke:#000000; stroke-width:4; stroke-opacity:1; fill:none\" points=\"\n",
       "  289.057,409.6 320.013,409.6 \n",
       "  \"/>\n",
       "<polyline clip-path=\"url(#clip9900)\" style=\"stroke:#000000; stroke-width:4; stroke-opacity:1; fill:none\" points=\"\n",
       "  289.057,76.6828 320.013,76.6828 \n",
       "  \"/>\n",
       "<g clip-path=\"url(#clip9900)\">\n",
       "<text style=\"fill:#000000; fill-opacity:1; font-family:Arial,Helvetica Neue,Helvetica,sans-serif; font-size:48px; text-anchor:middle;\" transform=\"rotate(0, 563.785, 1541.47)\" x=\"563.785\" y=\"1541.47\">20</text>\n",
       "</g>\n",
       "<g clip-path=\"url(#clip9900)\">\n",
       "<text style=\"fill:#000000; fill-opacity:1; font-family:Arial,Helvetica Neue,Helvetica,sans-serif; font-size:48px; text-anchor:middle;\" transform=\"rotate(0, 996.426, 1541.47)\" x=\"996.426\" y=\"1541.47\">40</text>\n",
       "</g>\n",
       "<g clip-path=\"url(#clip9900)\">\n",
       "<text style=\"fill:#000000; fill-opacity:1; font-family:Arial,Helvetica Neue,Helvetica,sans-serif; font-size:48px; text-anchor:middle;\" transform=\"rotate(0, 1429.07, 1541.47)\" x=\"1429.07\" y=\"1541.47\">60</text>\n",
       "</g>\n",
       "<g clip-path=\"url(#clip9900)\">\n",
       "<text style=\"fill:#000000; fill-opacity:1; font-family:Arial,Helvetica Neue,Helvetica,sans-serif; font-size:48px; text-anchor:middle;\" transform=\"rotate(0, 1861.71, 1541.47)\" x=\"1861.71\" y=\"1541.47\">80</text>\n",
       "</g>\n",
       "<g clip-path=\"url(#clip9900)\">\n",
       "<text style=\"fill:#000000; fill-opacity:1; font-family:Arial,Helvetica Neue,Helvetica,sans-serif; font-size:48px; text-anchor:middle;\" transform=\"rotate(0, 2294.35, 1541.47)\" x=\"2294.35\" y=\"1541.47\">100</text>\n",
       "</g>\n",
       "<g clip-path=\"url(#clip9900)\">\n",
       "<text style=\"fill:#000000; fill-opacity:1; font-family:Arial,Helvetica Neue,Helvetica,sans-serif; font-size:48px; text-anchor:end;\" transform=\"rotate(0, 265.057, 1425.85)\" x=\"265.057\" y=\"1425.85\">-0.00100</text>\n",
       "</g>\n",
       "<g clip-path=\"url(#clip9900)\">\n",
       "<text style=\"fill:#000000; fill-opacity:1; font-family:Arial,Helvetica Neue,Helvetica,sans-serif; font-size:48px; text-anchor:end;\" transform=\"rotate(0, 265.057, 1092.94)\" x=\"265.057\" y=\"1092.94\">-0.00075</text>\n",
       "</g>\n",
       "<g clip-path=\"url(#clip9900)\">\n",
       "<text style=\"fill:#000000; fill-opacity:1; font-family:Arial,Helvetica Neue,Helvetica,sans-serif; font-size:48px; text-anchor:end;\" transform=\"rotate(0, 265.057, 760.018)\" x=\"265.057\" y=\"760.018\">-0.00050</text>\n",
       "</g>\n",
       "<g clip-path=\"url(#clip9900)\">\n",
       "<text style=\"fill:#000000; fill-opacity:1; font-family:Arial,Helvetica Neue,Helvetica,sans-serif; font-size:48px; text-anchor:end;\" transform=\"rotate(0, 265.057, 427.1)\" x=\"265.057\" y=\"427.1\">-0.00025</text>\n",
       "</g>\n",
       "<g clip-path=\"url(#clip9900)\">\n",
       "<text style=\"fill:#000000; fill-opacity:1; font-family:Arial,Helvetica Neue,Helvetica,sans-serif; font-size:48px; text-anchor:end;\" transform=\"rotate(0, 265.057, 94.1828)\" x=\"265.057\" y=\"94.1828\">0.00000</text>\n",
       "</g>\n",
       "<polyline clip-path=\"url(#clip9902)\" style=\"stroke:#009af9; stroke-width:4; stroke-opacity:1; fill:none\" points=\"\n",
       "  347.464,1446.71 369.096,1186.41 390.728,993.811 412.36,847.325 433.992,733.325 455.624,642.869 477.256,569.894 498.888,510.169 520.52,460.671 542.153,419.19 \n",
       "  563.785,384.086 585.417,354.114 607.049,328.321 628.681,305.965 650.313,286.461 671.945,269.343 693.577,254.239 715.209,240.843 736.841,228.908 758.473,218.229 \n",
       "  780.105,208.636 801.737,199.986 823.369,192.159 845.001,185.054 866.633,178.586 888.265,172.68 909.898,167.273 931.53,162.31 953.162,157.744 974.794,153.534 \n",
       "  996.426,149.643 1018.06,146.041 1039.69,142.699 1061.32,139.592 1082.95,136.7 1104.59,134.003 1126.22,131.484 1147.85,129.127 1169.48,126.919 1191.11,124.848 \n",
       "  1212.75,122.902 1234.38,121.072 1256.01,119.348 1277.64,117.723 1299.27,116.189 1320.91,114.739 1342.54,113.368 1364.17,112.069 1385.8,110.839 1407.43,109.671 \n",
       "  1429.07,108.562 1450.7,107.508 1472.33,106.506 1493.96,105.552 1515.6,104.643 1537.23,103.776 1558.86,102.948 1580.49,102.159 1602.12,101.404 1623.76,100.682 \n",
       "  1645.39,99.9914 1667.02,99.3302 1688.65,98.6968 1710.28,98.0895 1731.92,97.507 1753.55,96.948 1775.18,96.4112 1796.81,95.8955 1818.44,95.3997 1840.08,94.9228 \n",
       "  1861.71,94.464 1883.34,94.0222 1904.97,93.5967 1926.6,93.1867 1948.24,92.7914 1969.87,92.4102 1991.5,92.0423 2013.13,91.6872 2034.76,91.3442 2056.4,91.0129 \n",
       "  2078.03,90.6927 2099.66,90.3831 2121.29,90.0836 2142.92,89.7939 2164.56,89.5134 2186.19,89.2419 2207.82,88.9789 2229.45,88.7241 2251.09,88.4771 2272.72,88.2376 \n",
       "  2294.35,88.0053 \n",
       "  \"/>\n",
       "<polygon clip-path=\"url(#clip9900)\" points=\"\n",
       "1989.93,251.724 2280.76,251.724 2280.76,130.764 1989.93,130.764 \n",
       "  \" fill=\"#ffffff\" fill-rule=\"evenodd\" fill-opacity=\"1\"/>\n",
       "<polyline clip-path=\"url(#clip9900)\" style=\"stroke:#000000; stroke-width:4; stroke-opacity:1; fill:none\" points=\"\n",
       "  1989.93,251.724 2280.76,251.724 2280.76,130.764 1989.93,130.764 1989.93,251.724 \n",
       "  \"/>\n",
       "<polyline clip-path=\"url(#clip9900)\" style=\"stroke:#009af9; stroke-width:4; stroke-opacity:1; fill:none\" points=\"\n",
       "  2013.93,191.244 2157.93,191.244 \n",
       "  \"/>\n",
       "<g clip-path=\"url(#clip9900)\">\n",
       "<text style=\"fill:#000000; fill-opacity:1; font-family:Arial,Helvetica Neue,Helvetica,sans-serif; font-size:48px; text-anchor:start;\" transform=\"rotate(0, 2181.93, 208.744)\" x=\"2181.93\" y=\"208.744\">y1</text>\n",
       "</g>\n",
       "</svg>\n"
      ],
      "text/html": [
       "<?xml version=\"1.0\" encoding=\"utf-8\"?>\n",
       "<svg xmlns=\"http://www.w3.org/2000/svg\" xmlns:xlink=\"http://www.w3.org/1999/xlink\" width=\"600\" height=\"400\" viewBox=\"0 0 2400 1600\">\n",
       "<defs>\n",
       "  <clipPath id=\"clip0400\">\n",
       "    <rect x=\"0\" y=\"0\" width=\"2400\" height=\"1600\"/>\n",
       "  </clipPath>\n",
       "</defs>\n",
       "<polygon clip-path=\"url(#clip0400)\" points=\"\n",
       "0,1600 2400,1600 2400,0 0,0 \n",
       "  \" fill=\"#ffffff\" fill-rule=\"evenodd\" fill-opacity=\"1\"/>\n",
       "<defs>\n",
       "  <clipPath id=\"clip0401\">\n",
       "    <rect x=\"480\" y=\"0\" width=\"1681\" height=\"1600\"/>\n",
       "  </clipPath>\n",
       "</defs>\n",
       "<polygon clip-path=\"url(#clip0400)\" points=\"\n",
       "289.057,1487.47 2352.76,1487.47 2352.76,47.2441 289.057,47.2441 \n",
       "  \" fill=\"#ffffff\" fill-rule=\"evenodd\" fill-opacity=\"1\"/>\n",
       "<defs>\n",
       "  <clipPath id=\"clip0402\">\n",
       "    <rect x=\"289\" y=\"47\" width=\"2065\" height=\"1441\"/>\n",
       "  </clipPath>\n",
       "</defs>\n",
       "<polyline clip-path=\"url(#clip0402)\" style=\"stroke:#000000; stroke-width:2; stroke-opacity:0.1; fill:none\" points=\"\n",
       "  563.785,1487.47 563.785,47.2441 \n",
       "  \"/>\n",
       "<polyline clip-path=\"url(#clip0402)\" style=\"stroke:#000000; stroke-width:2; stroke-opacity:0.1; fill:none\" points=\"\n",
       "  996.426,1487.47 996.426,47.2441 \n",
       "  \"/>\n",
       "<polyline clip-path=\"url(#clip0402)\" style=\"stroke:#000000; stroke-width:2; stroke-opacity:0.1; fill:none\" points=\"\n",
       "  1429.07,1487.47 1429.07,47.2441 \n",
       "  \"/>\n",
       "<polyline clip-path=\"url(#clip0402)\" style=\"stroke:#000000; stroke-width:2; stroke-opacity:0.1; fill:none\" points=\"\n",
       "  1861.71,1487.47 1861.71,47.2441 \n",
       "  \"/>\n",
       "<polyline clip-path=\"url(#clip0402)\" style=\"stroke:#000000; stroke-width:2; stroke-opacity:0.1; fill:none\" points=\"\n",
       "  2294.35,1487.47 2294.35,47.2441 \n",
       "  \"/>\n",
       "<polyline clip-path=\"url(#clip0402)\" style=\"stroke:#000000; stroke-width:2; stroke-opacity:0.1; fill:none\" points=\"\n",
       "  289.057,1408.35 2352.76,1408.35 \n",
       "  \"/>\n",
       "<polyline clip-path=\"url(#clip0402)\" style=\"stroke:#000000; stroke-width:2; stroke-opacity:0.1; fill:none\" points=\"\n",
       "  289.057,1075.44 2352.76,1075.44 \n",
       "  \"/>\n",
       "<polyline clip-path=\"url(#clip0402)\" style=\"stroke:#000000; stroke-width:2; stroke-opacity:0.1; fill:none\" points=\"\n",
       "  289.057,742.518 2352.76,742.518 \n",
       "  \"/>\n",
       "<polyline clip-path=\"url(#clip0402)\" style=\"stroke:#000000; stroke-width:2; stroke-opacity:0.1; fill:none\" points=\"\n",
       "  289.057,409.6 2352.76,409.6 \n",
       "  \"/>\n",
       "<polyline clip-path=\"url(#clip0402)\" style=\"stroke:#000000; stroke-width:2; stroke-opacity:0.1; fill:none\" points=\"\n",
       "  289.057,76.6828 2352.76,76.6828 \n",
       "  \"/>\n",
       "<polyline clip-path=\"url(#clip0400)\" style=\"stroke:#000000; stroke-width:4; stroke-opacity:1; fill:none\" points=\"\n",
       "  289.057,1487.47 2352.76,1487.47 \n",
       "  \"/>\n",
       "<polyline clip-path=\"url(#clip0400)\" style=\"stroke:#000000; stroke-width:4; stroke-opacity:1; fill:none\" points=\"\n",
       "  289.057,1487.47 289.057,47.2441 \n",
       "  \"/>\n",
       "<polyline clip-path=\"url(#clip0400)\" style=\"stroke:#000000; stroke-width:4; stroke-opacity:1; fill:none\" points=\"\n",
       "  563.785,1487.47 563.785,1465.87 \n",
       "  \"/>\n",
       "<polyline clip-path=\"url(#clip0400)\" style=\"stroke:#000000; stroke-width:4; stroke-opacity:1; fill:none\" points=\"\n",
       "  996.426,1487.47 996.426,1465.87 \n",
       "  \"/>\n",
       "<polyline clip-path=\"url(#clip0400)\" style=\"stroke:#000000; stroke-width:4; stroke-opacity:1; fill:none\" points=\"\n",
       "  1429.07,1487.47 1429.07,1465.87 \n",
       "  \"/>\n",
       "<polyline clip-path=\"url(#clip0400)\" style=\"stroke:#000000; stroke-width:4; stroke-opacity:1; fill:none\" points=\"\n",
       "  1861.71,1487.47 1861.71,1465.87 \n",
       "  \"/>\n",
       "<polyline clip-path=\"url(#clip0400)\" style=\"stroke:#000000; stroke-width:4; stroke-opacity:1; fill:none\" points=\"\n",
       "  2294.35,1487.47 2294.35,1465.87 \n",
       "  \"/>\n",
       "<polyline clip-path=\"url(#clip0400)\" style=\"stroke:#000000; stroke-width:4; stroke-opacity:1; fill:none\" points=\"\n",
       "  289.057,1408.35 320.013,1408.35 \n",
       "  \"/>\n",
       "<polyline clip-path=\"url(#clip0400)\" style=\"stroke:#000000; stroke-width:4; stroke-opacity:1; fill:none\" points=\"\n",
       "  289.057,1075.44 320.013,1075.44 \n",
       "  \"/>\n",
       "<polyline clip-path=\"url(#clip0400)\" style=\"stroke:#000000; stroke-width:4; stroke-opacity:1; fill:none\" points=\"\n",
       "  289.057,742.518 320.013,742.518 \n",
       "  \"/>\n",
       "<polyline clip-path=\"url(#clip0400)\" style=\"stroke:#000000; stroke-width:4; stroke-opacity:1; fill:none\" points=\"\n",
       "  289.057,409.6 320.013,409.6 \n",
       "  \"/>\n",
       "<polyline clip-path=\"url(#clip0400)\" style=\"stroke:#000000; stroke-width:4; stroke-opacity:1; fill:none\" points=\"\n",
       "  289.057,76.6828 320.013,76.6828 \n",
       "  \"/>\n",
       "<g clip-path=\"url(#clip0400)\">\n",
       "<text style=\"fill:#000000; fill-opacity:1; font-family:Arial,Helvetica Neue,Helvetica,sans-serif; font-size:48px; text-anchor:middle;\" transform=\"rotate(0, 563.785, 1541.47)\" x=\"563.785\" y=\"1541.47\">20</text>\n",
       "</g>\n",
       "<g clip-path=\"url(#clip0400)\">\n",
       "<text style=\"fill:#000000; fill-opacity:1; font-family:Arial,Helvetica Neue,Helvetica,sans-serif; font-size:48px; text-anchor:middle;\" transform=\"rotate(0, 996.426, 1541.47)\" x=\"996.426\" y=\"1541.47\">40</text>\n",
       "</g>\n",
       "<g clip-path=\"url(#clip0400)\">\n",
       "<text style=\"fill:#000000; fill-opacity:1; font-family:Arial,Helvetica Neue,Helvetica,sans-serif; font-size:48px; text-anchor:middle;\" transform=\"rotate(0, 1429.07, 1541.47)\" x=\"1429.07\" y=\"1541.47\">60</text>\n",
       "</g>\n",
       "<g clip-path=\"url(#clip0400)\">\n",
       "<text style=\"fill:#000000; fill-opacity:1; font-family:Arial,Helvetica Neue,Helvetica,sans-serif; font-size:48px; text-anchor:middle;\" transform=\"rotate(0, 1861.71, 1541.47)\" x=\"1861.71\" y=\"1541.47\">80</text>\n",
       "</g>\n",
       "<g clip-path=\"url(#clip0400)\">\n",
       "<text style=\"fill:#000000; fill-opacity:1; font-family:Arial,Helvetica Neue,Helvetica,sans-serif; font-size:48px; text-anchor:middle;\" transform=\"rotate(0, 2294.35, 1541.47)\" x=\"2294.35\" y=\"1541.47\">100</text>\n",
       "</g>\n",
       "<g clip-path=\"url(#clip0400)\">\n",
       "<text style=\"fill:#000000; fill-opacity:1; font-family:Arial,Helvetica Neue,Helvetica,sans-serif; font-size:48px; text-anchor:end;\" transform=\"rotate(0, 265.057, 1425.85)\" x=\"265.057\" y=\"1425.85\">-0.00100</text>\n",
       "</g>\n",
       "<g clip-path=\"url(#clip0400)\">\n",
       "<text style=\"fill:#000000; fill-opacity:1; font-family:Arial,Helvetica Neue,Helvetica,sans-serif; font-size:48px; text-anchor:end;\" transform=\"rotate(0, 265.057, 1092.94)\" x=\"265.057\" y=\"1092.94\">-0.00075</text>\n",
       "</g>\n",
       "<g clip-path=\"url(#clip0400)\">\n",
       "<text style=\"fill:#000000; fill-opacity:1; font-family:Arial,Helvetica Neue,Helvetica,sans-serif; font-size:48px; text-anchor:end;\" transform=\"rotate(0, 265.057, 760.018)\" x=\"265.057\" y=\"760.018\">-0.00050</text>\n",
       "</g>\n",
       "<g clip-path=\"url(#clip0400)\">\n",
       "<text style=\"fill:#000000; fill-opacity:1; font-family:Arial,Helvetica Neue,Helvetica,sans-serif; font-size:48px; text-anchor:end;\" transform=\"rotate(0, 265.057, 427.1)\" x=\"265.057\" y=\"427.1\">-0.00025</text>\n",
       "</g>\n",
       "<g clip-path=\"url(#clip0400)\">\n",
       "<text style=\"fill:#000000; fill-opacity:1; font-family:Arial,Helvetica Neue,Helvetica,sans-serif; font-size:48px; text-anchor:end;\" transform=\"rotate(0, 265.057, 94.1828)\" x=\"265.057\" y=\"94.1828\">0.00000</text>\n",
       "</g>\n",
       "<polyline clip-path=\"url(#clip0402)\" style=\"stroke:#009af9; stroke-width:4; stroke-opacity:1; fill:none\" points=\"\n",
       "  347.464,1446.71 369.096,1186.41 390.728,993.811 412.36,847.325 433.992,733.325 455.624,642.869 477.256,569.894 498.888,510.169 520.52,460.671 542.153,419.19 \n",
       "  563.785,384.086 585.417,354.114 607.049,328.321 628.681,305.965 650.313,286.461 671.945,269.343 693.577,254.239 715.209,240.843 736.841,228.908 758.473,218.229 \n",
       "  780.105,208.636 801.737,199.986 823.369,192.159 845.001,185.054 866.633,178.586 888.265,172.68 909.898,167.273 931.53,162.31 953.162,157.744 974.794,153.534 \n",
       "  996.426,149.643 1018.06,146.041 1039.69,142.699 1061.32,139.592 1082.95,136.7 1104.59,134.003 1126.22,131.484 1147.85,129.127 1169.48,126.919 1191.11,124.848 \n",
       "  1212.75,122.902 1234.38,121.072 1256.01,119.348 1277.64,117.723 1299.27,116.189 1320.91,114.739 1342.54,113.368 1364.17,112.069 1385.8,110.839 1407.43,109.671 \n",
       "  1429.07,108.562 1450.7,107.508 1472.33,106.506 1493.96,105.552 1515.6,104.643 1537.23,103.776 1558.86,102.948 1580.49,102.159 1602.12,101.404 1623.76,100.682 \n",
       "  1645.39,99.9914 1667.02,99.3302 1688.65,98.6968 1710.28,98.0895 1731.92,97.507 1753.55,96.948 1775.18,96.4112 1796.81,95.8955 1818.44,95.3997 1840.08,94.9228 \n",
       "  1861.71,94.464 1883.34,94.0222 1904.97,93.5967 1926.6,93.1867 1948.24,92.7914 1969.87,92.4102 1991.5,92.0423 2013.13,91.6872 2034.76,91.3442 2056.4,91.0129 \n",
       "  2078.03,90.6927 2099.66,90.3831 2121.29,90.0836 2142.92,89.7939 2164.56,89.5134 2186.19,89.2419 2207.82,88.9789 2229.45,88.7241 2251.09,88.4771 2272.72,88.2376 \n",
       "  2294.35,88.0053 \n",
       "  \"/>\n",
       "<polygon clip-path=\"url(#clip0400)\" points=\"\n",
       "1989.93,251.724 2280.76,251.724 2280.76,130.764 1989.93,130.764 \n",
       "  \" fill=\"#ffffff\" fill-rule=\"evenodd\" fill-opacity=\"1\"/>\n",
       "<polyline clip-path=\"url(#clip0400)\" style=\"stroke:#000000; stroke-width:4; stroke-opacity:1; fill:none\" points=\"\n",
       "  1989.93,251.724 2280.76,251.724 2280.76,130.764 1989.93,130.764 1989.93,251.724 \n",
       "  \"/>\n",
       "<polyline clip-path=\"url(#clip0400)\" style=\"stroke:#009af9; stroke-width:4; stroke-opacity:1; fill:none\" points=\"\n",
       "  2013.93,191.244 2157.93,191.244 \n",
       "  \"/>\n",
       "<g clip-path=\"url(#clip0400)\">\n",
       "<text style=\"fill:#000000; fill-opacity:1; font-family:Arial,Helvetica Neue,Helvetica,sans-serif; font-size:48px; text-anchor:start;\" transform=\"rotate(0, 2181.93, 208.744)\" x=\"2181.93\" y=\"208.744\">y1</text>\n",
       "</g>\n",
       "</svg>\n"
      ],
      "text/plain": [
       "Plot{Plots.GRBackend() n=1}"
      ]
     },
     "execution_count": 89,
     "metadata": {},
     "output_type": "execute_result"
    }
   ],
   "source": [
    "using QuadGK\n",
    "f(x) = x.^3-2*x.^2;\n",
    "int = quadgk(f, 0, 1, rtol=1e-10);\n",
    "N = collect(10:100);\n",
    "Y = zeros(size(N)[1],1);\n",
    "count = 1;\n",
    "for n ∈ N\n",
    "    Y[count,1] = trapezoidal(f, 0, 1, n) - int[1];\n",
    "    count = count + 1;\n",
    "end\n",
    "\n",
    "using Plots\n",
    "plot(N, Y)"
   ]
  },
  {
   "cell_type": "markdown",
   "metadata": {},
   "source": [
    "# Exercise 6 in Introduction to Types"
   ]
  },
  {
   "cell_type": "markdown",
   "metadata": {},
   "source": [
    "## Problem"
   ]
  },
  {
   "cell_type": "markdown",
   "metadata": {},
   "source": [
    "Take a variation of your code in Exercise 5\n",
    "\n",
    "Use auto-differentiation to calculate the following derivative for the example functions\n",
    "\n",
    "$$\\frac{d}{d \\bar{x}}\\int_\\underline{x}^\\bar{x} f(x) \\, dx$$\n",
    "\n",
    "Hint: See the following code for the general pattern, and be careful to\n",
    "follow the [rules for generic programming](#generic-tips-tricks)"
   ]
  },
  {
   "cell_type": "code",
   "execution_count": 90,
   "metadata": {},
   "outputs": [
    {
     "name": "stdout",
     "output_type": "stream",
     "text": [
      "f(0.0, 3.0) = 1.5\n",
      "f(0.0, 3.1) = 1.55\n"
     ]
    },
    {
     "data": {
      "text/plain": [
       "0.5"
      ]
     },
     "execution_count": 90,
     "metadata": {},
     "output_type": "execute_result"
    }
   ],
   "source": [
    "using ForwardDiff\n",
    "\n",
    "function f(a, b; N = 50)\n",
    "    r = range(a, b, length=N) # one\n",
    "return mean(r)\n",
    "end\n",
    "\n",
    "Df(x) = ForwardDiff.derivative(y -> f(0.0, y), x)\n",
    "\n",
    "@show f(0.0, 3.0)\n",
    "@show f(0.0, 3.1)\n",
    "\n",
    "Df(3.0)"
   ]
  },
  {
   "cell_type": "markdown",
   "metadata": {},
   "source": [
    "## Solution\n",
    "\n",
    "In this problem I ran with an issue. For some reason that I do not understand. My function trapezoidal doesn't work with ForwardDiff. My impression after trying to solve this error for a while is that there is a type problem with my function that doesn't allow ForwardDiff to pass through. "
   ]
  },
  {
   "cell_type": "code",
   "execution_count": 99,
   "metadata": {},
   "outputs": [
    {
     "name": "stdout",
     "output_type": "stream",
     "text": [
      "trapezoidal2(pe, xl, 1.0, N) = 0.33335033840084294\n",
      "trapezoidal2(pe, xl, 1.1, N) = 0.44368930041152177\n",
      "Df(1.0) = 1.0000510152025281\n",
      "trapezoidal(pe, xl, 1.0, N) = 0.3333503384008435\n",
      "trapezoidal(pe, xl, 1.1, N) = 0.4436893004115227\n"
     ]
    },
    {
     "ename": "MethodError",
     "evalue": "MethodError: no method matching Integer(::ForwardDiff.Dual{ForwardDiff.Tag{getfield(Main, Symbol(\"##119#120\")),Float64},Float64,1})\nClosest candidates are:\n  Integer(::T<:Number) where T<:Number at boot.jl:718\n  Integer(!Matched::Integer) at boot.jl:743\n  Integer(!Matched::Union{Float32, Float64}) at boot.jl:744\n  ...",
     "output_type": "error",
     "traceback": [
      "MethodError: no method matching Integer(::ForwardDiff.Dual{ForwardDiff.Tag{getfield(Main, Symbol(\"##119#120\")),Float64},Float64,1})\nClosest candidates are:\n  Integer(::T<:Number) where T<:Number at boot.jl:718\n  Integer(!Matched::Integer) at boot.jl:743\n  Integer(!Matched::Union{Float32, Float64}) at boot.jl:744\n  ...",
      "",
      "Stacktrace:",
      " [1] unsafe_length(::StepRange{ForwardDiff.Dual{ForwardDiff.Tag{getfield(Main, Symbol(\"##119#120\")),Float64},Float64,1},ForwardDiff.Dual{ForwardDiff.Tag{getfield(Main, Symbol(\"##119#120\")),Float64},Float64,1}}) at ./range.jl:510",
      " [2] length(::StepRange{ForwardDiff.Dual{ForwardDiff.Tag{getfield(Main, Symbol(\"##119#120\")),Float64},Float64,1},ForwardDiff.Dual{ForwardDiff.Tag{getfield(Main, Symbol(\"##119#120\")),Float64},Float64,1}}) at ./range.jl:513",
      " [3] vcat(::StepRange{ForwardDiff.Dual{ForwardDiff.Tag{getfield(Main, Symbol(\"##119#120\")),Float64},Float64,1},ForwardDiff.Dual{ForwardDiff.Tag{getfield(Main, Symbol(\"##119#120\")),Float64},Float64,1}}) at ./range.jl:933",
      " [4] collect(::StepRange{ForwardDiff.Dual{ForwardDiff.Tag{getfield(Main, Symbol(\"##119#120\")),Float64},Float64,1},ForwardDiff.Dual{ForwardDiff.Tag{getfield(Main, Symbol(\"##119#120\")),Float64},Float64,1}}) at ./range.jl:945",
      " [5] trapezoidal(::typeof(pe), ::Float64, ::ForwardDiff.Dual{ForwardDiff.Tag{getfield(Main, Symbol(\"##119#120\")),Float64},Float64,1}, ::Float64) at ./In[99]:19",
      " [6] (::getfield(Main, Symbol(\"##119#120\")))(::ForwardDiff.Dual{ForwardDiff.Tag{getfield(Main, Symbol(\"##119#120\")),Float64},Float64,1}) at ./In[99]:38",
      " [7] derivative at /opt/julia/packages/ForwardDiff/N0wMF/src/derivative.jl:14 [inlined]",
      " [8] Dfr(::Float64) at ./In[99]:38",
      " [9] top-level scope at show.jl:576",
      " [10] top-level scope at In[99]:42"
     ]
    }
   ],
   "source": [
    "using ForwardDiff\n",
    "\n",
    "function trapezoidal(f::Function, xl::Real, xu::Real, N::Real)\n",
    "    gap = norm(xu-xl)/(N-1);\n",
    "    x = collect(xl:gap:xu);\n",
    "    int = 0.0;\n",
    "    for i ∈ 2:length(x)\n",
    "        int += ((f(x[i,1])+f(x[i-1,1]))/2)*gap;\n",
    "    end\n",
    "    return int\n",
    "end\n",
    "\n",
    "function trapezoidal2(f::Function, xinit::Real , xupper::Real ,  N::Real)\n",
    "    M = length(xupper)\n",
    "    Δ = (xupper-xinit)/(N-1)\n",
    "    total = zero(eltype(xinit))\n",
    "    x=xinit\n",
    "    \n",
    "    for i=1:N\n",
    "        weight = ((i == 1) || (i == N)) ?  Δ/2 : Δ  \n",
    "        total += weight * f(x)\n",
    "        x += Δ\n",
    "    end\n",
    "    return total\n",
    "end\n",
    "\n",
    "pe(x) = x^2;\n",
    "xl = 0.0;\n",
    "N = 100.0;\n",
    "\n",
    "Df(s) = ForwardDiff.derivative(y -> trapezoidal2(pe,xl, y, N), s)\n",
    "\n",
    "@show trapezoidal2(pe, xl, 1.0,N)\n",
    "@show trapezoidal2(pe, xl, 1.1,N)\n",
    "\n",
    "@show Df(1.0)\n",
    "\n",
    "Dfr(s) = ForwardDiff.derivative(y -> trapezoidal(pe,xl, y, N), s)\n",
    "\n",
    "@show trapezoidal(pe, xl, 1.0,N)\n",
    "@show trapezoidal(pe, xl, 1.1,N)\n",
    "\n",
    "@show Dfr(1.0)\n"
   ]
  }
 ],
 "metadata": {
  "kernelspec": {
   "display_name": "Julia 1.2.0",
   "language": "julia",
   "name": "julia-1.2"
  },
  "language_info": {
   "file_extension": ".jl",
   "mimetype": "application/julia",
   "name": "julia",
   "version": "1.2.0"
  }
 },
 "nbformat": 4,
 "nbformat_minor": 4
}
